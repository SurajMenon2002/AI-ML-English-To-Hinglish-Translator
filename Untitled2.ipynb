{
  "nbformat": 4,
  "nbformat_minor": 0,
  "metadata": {
    "colab": {
      "provenance": [],
      "authorship_tag": "ABX9TyO/2wGzAK78QzaGQgEEglWQ",
      "include_colab_link": true
    },
    "kernelspec": {
      "name": "python3",
      "display_name": "Python 3"
    },
    "language_info": {
      "name": "python"
    }
  },
  "cells": [
    {
      "cell_type": "markdown",
      "metadata": {
        "id": "view-in-github",
        "colab_type": "text"
      },
      "source": [
        "<a href=\"https://colab.research.google.com/github/SurajMenon2002/AI-ML-English-To-Hinglish-Translator/blob/main/Untitled2.ipynb\" target=\"_parent\"><img src=\"https://colab.research.google.com/assets/colab-badge.svg\" alt=\"Open In Colab\"/></a>"
      ]
    },
    {
      "cell_type": "code",
      "source": [
        "pip install googletrans==4.0.0-rc1\n"
      ],
      "metadata": {
        "colab": {
          "base_uri": "https://localhost:8080/",
          "height": 584
        },
        "id": "pf36hjX2yXWn",
        "outputId": "168589a4-1f80-4b35-bafe-1b8fa1fea6df"
      },
      "execution_count": 11,
      "outputs": [
        {
          "output_type": "stream",
          "name": "stdout",
          "text": [
            "Collecting googletrans==4.0.0-rc1\n",
            "  Downloading googletrans-4.0.0rc1.tar.gz (20 kB)\n",
            "  Preparing metadata (setup.py) ... \u001b[?25l\u001b[?25hdone\n",
            "Requirement already satisfied: httpx==0.13.3 in /usr/local/lib/python3.10/dist-packages (from googletrans==4.0.0-rc1) (0.13.3)\n",
            "Requirement already satisfied: certifi in /usr/local/lib/python3.10/dist-packages (from httpx==0.13.3->googletrans==4.0.0-rc1) (2023.7.22)\n",
            "Requirement already satisfied: hstspreload in /usr/local/lib/python3.10/dist-packages (from httpx==0.13.3->googletrans==4.0.0-rc1) (2023.1.1)\n",
            "Requirement already satisfied: sniffio in /usr/local/lib/python3.10/dist-packages (from httpx==0.13.3->googletrans==4.0.0-rc1) (1.3.0)\n",
            "Requirement already satisfied: chardet==3.* in /usr/local/lib/python3.10/dist-packages (from httpx==0.13.3->googletrans==4.0.0-rc1) (3.0.4)\n",
            "Requirement already satisfied: idna==2.* in /usr/local/lib/python3.10/dist-packages (from httpx==0.13.3->googletrans==4.0.0-rc1) (2.10)\n",
            "Requirement already satisfied: rfc3986<2,>=1.3 in /usr/local/lib/python3.10/dist-packages (from httpx==0.13.3->googletrans==4.0.0-rc1) (1.5.0)\n",
            "Requirement already satisfied: httpcore==0.9.* in /usr/local/lib/python3.10/dist-packages (from httpx==0.13.3->googletrans==4.0.0-rc1) (0.9.1)\n",
            "Requirement already satisfied: h11<0.10,>=0.8 in /usr/local/lib/python3.10/dist-packages (from httpcore==0.9.*->httpx==0.13.3->googletrans==4.0.0-rc1) (0.9.0)\n",
            "Requirement already satisfied: h2==3.* in /usr/local/lib/python3.10/dist-packages (from httpcore==0.9.*->httpx==0.13.3->googletrans==4.0.0-rc1) (3.2.0)\n",
            "Requirement already satisfied: hyperframe<6,>=5.2.0 in /usr/local/lib/python3.10/dist-packages (from h2==3.*->httpcore==0.9.*->httpx==0.13.3->googletrans==4.0.0-rc1) (5.2.0)\n",
            "Requirement already satisfied: hpack<4,>=3.0 in /usr/local/lib/python3.10/dist-packages (from h2==3.*->httpcore==0.9.*->httpx==0.13.3->googletrans==4.0.0-rc1) (3.0.0)\n",
            "Building wheels for collected packages: googletrans\n",
            "  Building wheel for googletrans (setup.py) ... \u001b[?25l\u001b[?25hdone\n",
            "  Created wheel for googletrans: filename=googletrans-4.0.0rc1-py3-none-any.whl size=17396 sha256=a12cdc2443002da41010c44ad45d2d436470e35ca6ad495da7a5e1d857ae446e\n",
            "  Stored in directory: /root/.cache/pip/wheels/c0/59/9f/7372f0cf70160fe61b528532e1a7c8498c4becd6bcffb022de\n",
            "Successfully built googletrans\n",
            "Installing collected packages: googletrans\n",
            "  Attempting uninstall: googletrans\n",
            "    Found existing installation: googletrans 3.0.0\n",
            "    Uninstalling googletrans-3.0.0:\n",
            "      Successfully uninstalled googletrans-3.0.0\n",
            "Successfully installed googletrans-4.0.0rc1\n"
          ]
        },
        {
          "output_type": "display_data",
          "data": {
            "application/vnd.colab-display-data+json": {
              "pip_warning": {
                "packages": [
                  "googletrans"
                ]
              }
            }
          },
          "metadata": {}
        }
      ]
    },
    {
      "cell_type": "code",
      "source": [
        "from googletrans import Translator\n",
        "\n",
        "def translate_to_hinglish(text, dictionary):\n",
        "    translator = Translator()\n",
        "    translation = translator.translate(text, src='en', dest='hi')\n",
        "    hinglish_text = translation.text\n",
        "\n",
        "    # Split the translated text into words\n",
        "    hinglish_words = hinglish_text.split()\n",
        "\n",
        "    # Initialize an empty list for the final result\n",
        "    result = []\n",
        "\n",
        "    # Iterate through the words in the translated text\n",
        "    for word in hinglish_words:\n",
        "        # Check if the word is present in the dictionary\n",
        "        if word in dictionary:\n",
        "            result.append(dictionary[word])\n",
        "        else:\n",
        "            result.append(word)\n",
        "\n",
        "    return ' '.join(result)\n",
        "\n",
        "# Example sentences to be translated\n",
        "sentences = [\n",
        "    \"Definitely share your feedback in the comment section.\",\n",
        "    \"So even if it's a big video, I will clearly mention all the products.\",\n",
        "    \"I was waiting for my bag.\"\n",
        "]\n",
        "\n",
        "# Dictionary to replace Hindi words with English words\n",
        "hindi_to_english = {\n",
        "    \"प्रतिक्रिया\": \"feedback\",\n",
        "    \"कमेंट सेक्शन\": \"comment section\",\n",
        "    \"शेयर\": \"share\",\n",
        "    \"वीडियो\": \"video\",\n",
        "    \"उत्पादों\": \"products\",\n",
        "    \"स्पष्ट रूप से\": \"clearly\",\n",
        "    \"बैग\": \"bag\",\n",
        "    \"जरूर\": \"Definitely\",\n",
        "    \"उल्लेख करूंगा\": \"mention\",\n",
        "    \"इंतजार कर रहा था\": \"waiting\",\n",
        "    \"मेरा\": \"my\",\n",
        "    \"महत्वपूर्ण रूप से\": \"importantly\",\n",
        "    \"हमेशा\": \"always\",\n",
        "    \"भी\": \"also\",\n",
        "    \"साथ\": \"with\",\n",
        "    \"क्योंकि\": \"because\",\n",
        "    \"आज\": \"today\",\n",
        "    \"सेल्फी\": \"Selfie\",\n",
        "    \"मोबाइल\": \"Mobile\",\n",
        "    \"चॉकलेट\": \"Chocolate\",\n",
        "    \"पंखा\": \"Fan\",\n",
        "    \"लैपटॉप\": \"Laptop\",\n",
        "    \"इंटरनेट\": \"Internet\",\n",
        "    \"फास्ट फूड\": \"Fast food\",\n",
        "    \"रेस्टोरेंट\": \"Restaurant\",\n",
        "    \"कंप्यूटर\": \"Computer\",\n",
        "    \"टीवी (टेलीविजन)\": \"TV (Television)\",\n",
        "    \"ट्रेन\": \"Train\",\n",
        "    \"बस\": \"Bus\",\n",
        "    \"कार\": \"Car\",\n",
        "    \"ईमेल\": \"Email\",\n",
        "    \"कॉफ़ी\": \"Coffee\",\n",
        "    \"जीन्स\": \"Jeans\",\n",
        "    \"कमीज़\": \"Shirt\",\n",
        "    \"टी-शर्ट\": \"T-shirt\",\n",
        "    \"मूवी\": \"Movie\",\n",
        "    \"संगीत\": \"Music\",\n",
        "    \"वीकएंड\": \"Weekend\",\n",
        "    \"पार्टी\": \"Party\",\n",
        "    \"योजना\": \"Plan\",\n",
        "    \"टाइमपास\": \"Timepass\",\n",
        "    \"कूल\": \"Cool\",\n",
        "    \"अद्भुत\": \"Awesome\",\n",
        "    \"माफ़ करना\": \"Sorry\",\n",
        "    \"धन्यवाद\": \"Thanks\",\n",
        "    \"कृपया\": \"Please\",\n",
        "    \"ठीक है\": \"Ok\",\n",
        "    \"अपडेट\": \"Update\",\n",
        "    \"समाचार\": \"News\",\n",
        "    \"मालिक\": \"Boss\",\n",
        "    \"नौकरी\": \"Job\",\n",
        "    \"कॉलेज\": \"College\",\n",
        "    \"स्कूल\": \"School\",\n",
        "    \"कक्षा\": \"Class\",\n",
        "    \"परीक्षा\": \"Exam\",\n",
        "    \"प्रोजेक्ट\": \"Project\",\n",
        "    \"समूह\": \"Group\",\n",
        "    \"दोस्त\": \"Friend\",\n",
        "    \"नंबर\": \"Number\",\n",
        "    \"टॉप-अप\": \"Top-up\",\n",
        "    \"बिल\": \"Bill\",\n",
        "    \"नकद\": \"Cash\",\n",
        "    \"एटीएम\": \"ATM\",\n",
        "    \"वीज़ा\": \"Visa\",\n",
        "    \"मास्टरकार्ड\": \"Mastercard\",\n",
        "    \"खाता\": \"Account\",\n",
        "    \"शेष\": \"Balance\",\n",
        "    \"समस्या\": \"Problem\",\n",
        "    \"विचार\": \"Idea\",\n",
        "    \"मिलना\": \"Meeting\",\n",
        "    \"ग्राहक\": \"Client\",\n",
        "    \"प्रतिक्रिया\": \"Feedback\",\n",
        "    \"मैनेजर\": \"Manager\",\n",
        "    \"समय सीमा\": \"Deadline\",\n",
        "    \"लक्ष्य\": \"Target\",\n",
        "    \"लक्ष्य\": \"Goal\",\n",
        "    \"वेतन\": \"Salary\",\n",
        "    \"बोनस\": \"Bonus\",\n",
        "    \"पदोन्नति\": \"Promotion\",\n",
        "    \"प्रस्तुति\": \"Presentation\",\n",
        "    \"सम्मेलन\": \"Conference\",\n",
        "    \"मार्केटिंग\": \"Marketing\",\n",
        "    \"बिक्री\": \"Sale\",\n",
        "    \"छूट\": \"Discount\",\n",
        "    \"खरीददारी\": \"Shopping\",\n",
        "    \"सौदा\": \"Deal\",\n",
        "    \"पेशकश\": \"Offer\",\n",
        "    \"क्रेडिट\": \"Credit\",\n",
        "    \"डेबिट\": \"Debit\",\n",
        "    \"टिकट\": \"Ticket\",\n",
        "    \"यात्री\": \"Passenger\",\n",
        "    \"ड्राइवर\": \"Driver\",\n",
        "    \"समय\": \"Time\",\n",
        "    \"तारीख\": \"Date\",\n",
        "    \"कार्य\": \"Function\",\n",
        "    \"प्रोग्राम\": \"Program\",\n",
        "    \"घटना\": \"Event\",\n",
        "    \"सामग्री\": \"Content\",\n",
        "    \"एपिसोड\": \"Episode\",\n",
        "    \"अध्याय\": \"Chapter\",\n",
        "    \"सीन\": \"Scene\",\n",
        "    \"संवाद\": \"Dialog\",\n",
        "    \"क्रिया\": \"Action\",\n",
        "    \"नाटक\": \"Drama\",\n",
        "    \"रोमांस\": \"Romance\",\n",
        "    \"कॉमेडी\": \"Comedy\",\n",
        "    \"अभिनेता\": \"Actor\",\n",
        "    \"अदाकारा\": \"Actress\",\n",
        "    \"निर्देशक\": \"Director\",\n",
        "    \"निर्माता\": \"Producer\",\n",
        "    \"दर्शक\": \"Audience\",\n",
        "    \"समीक्षा\": \"Review\",\n",
        "    \"प्रवृत्ति\": \"Trend\",\n",
        "    \"स्टाइल\": \"Style\",\n",
        "    \"ब्रंड\": \"Brand\"\n",
        "}\n",
        "\n",
        "\n",
        "\n",
        "# Translate and print the mixed Hinglish versions\n",
        "for sentence in sentences:\n",
        "    hinglish_translation = translate_to_hinglish(sentence, hindi_to_english)\n",
        "    print(hinglish_translation)\n"
      ],
      "metadata": {
        "colab": {
          "base_uri": "https://localhost:8080/"
        },
        "id": "39WI4Ot43yQb",
        "outputId": "22168a6c-1ff1-4c7b-b514-46f5cce75873"
      },
      "execution_count": 14,
      "outputs": [
        {
          "output_type": "stream",
          "name": "stdout",
          "text": [
            "निश्चित रूप से टिप्पणी अनुभाग में अपनी Feedback साझा करें।\n",
            "तो भले ही यह एक बड़ा video है, मैं स्पष्ट रूप से सभी products का उल्लेख करूंगा।\n",
            "मैं अपने bag का इंतजार कर रहा था।\n"
          ]
        }
      ]
    }
  ]
}